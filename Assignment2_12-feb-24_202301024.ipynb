{
  "nbformat": 4,
  "nbformat_minor": 0,
  "metadata": {
    "colab": {
      "provenance": [],
      "authorship_tag": "ABX9TyPKZXxSSyV59C6rfzuS5Xey",
      "include_colab_link": true
    },
    "kernelspec": {
      "name": "python3",
      "display_name": "Python 3"
    },
    "language_info": {
      "name": "python"
    }
  },
  "cells": [
    {
      "cell_type": "markdown",
      "metadata": {
        "id": "view-in-github",
        "colab_type": "text"
      },
      "source": [
        "<a href=\"https://colab.research.google.com/github/JatinFulra/Big-Data/blob/main/Assignment2_12-feb-24_202301024.ipynb\" target=\"_parent\"><img src=\"https://colab.research.google.com/assets/colab-badge.svg\" alt=\"Open In Colab\"/></a>"
      ]
    },
    {
      "cell_type": "code",
      "execution_count": 1,
      "metadata": {
        "colab": {
          "base_uri": "https://localhost:8080/"
        },
        "id": "1hRc8bIG_Pnz",
        "outputId": "2bea0050-6227-4b52-cd33-dccde2dcceb3"
      },
      "outputs": [
        {
          "output_type": "stream",
          "name": "stdout",
          "text": [
            "  tid refund martial status taxable income cheat\n",
            "0   1    yes         single           115k    No\n",
            "1   2     no        married           115k    No\n",
            "2   3     no         single           115k    No\n",
            "3   4    yes        married           115k    No\n",
            "4   5     no       divorced           115k   yes\n",
            "5   6     no         single           115k    No\n",
            "6   7    yes        married           115k    No\n",
            "7   8     no         single           115k    No\n",
            "8   9    yes        married           115k    No\n",
            "9  10    yes       divorced           115k   yes\n"
          ]
        }
      ],
      "source": [
        "import pandas as pd\n",
        "\n",
        "dataset = {\n",
        "    \"tid\": [\"1\", \"2\", \"3\", \"4\", \"5\", \"6\", \"7\", \"8\", \"9\", \"10\"],\n",
        "    \"refund\": [\"yes\", \"no\", \"no\", \"yes\", \"no\", \"no\", \"yes\", \"no\", \"yes\", \"yes\"],\n",
        "    \"martial status\": [\"single\", \"married\", \"single\", \"married\", \"divorced\", \"single\", \"married\", \"single\", \"married\", \"divorced\"],\n",
        "    \"taxable income\": [\"115k\", \"115k\", \"115k\", \"115k\", \"115k\", \"115k\", \"115k\", \"115k\", \"115k\", \"115k\"],\n",
        "    \"cheat\": [\"No\", \"No\", \"No\", \"No\", \"yes\", \"No\", \"No\", \"No\", \"No\", \"yes\"]\n",
        "}\n",
        "\n",
        "df = pd.DataFrame(dataset)\n",
        "print(df)"
      ]
    },
    {
      "cell_type": "code",
      "source": [
        "rows = [0, 4, 7, 8]\n",
        "located_rows = df.iloc[rows]\n",
        "print(located_rows)"
      ],
      "metadata": {
        "colab": {
          "base_uri": "https://localhost:8080/"
        },
        "id": "bSmpXf2V_Y4r",
        "outputId": "181aef6b-c3f0-4345-ddcc-ae679705d2fa"
      },
      "execution_count": 2,
      "outputs": [
        {
          "output_type": "stream",
          "name": "stdout",
          "text": [
            "  tid refund martial status taxable income cheat\n",
            "0   1    yes         single           115k    No\n",
            "4   5     no       divorced           115k   yes\n",
            "7   8     no         single           115k    No\n",
            "8   9    yes        married           115k    No\n"
          ]
        }
      ]
    },
    {
      "cell_type": "code",
      "source": [
        "df  = pd.read_csv(\"/content/data.csv\")"
      ],
      "metadata": {
        "id": "hhXy5wG-_fl5"
      },
      "execution_count": 3,
      "outputs": []
    },
    {
      "cell_type": "code",
      "source": [
        "print(df)"
      ],
      "metadata": {
        "colab": {
          "base_uri": "https://localhost:8080/"
        },
        "id": "EkKrRKJQ_lvD",
        "outputId": "aa3eb989-c107-4567-d6d4-d91c9b473c72"
      },
      "execution_count": 4,
      "outputs": [
        {
          "output_type": "stream",
          "name": "stdout",
          "text": [
            "     Duration  Pulse  Maxpulse  Calories\n",
            "0          60    110       130     409.1\n",
            "1          60    117       145     479.0\n",
            "2          60    103       135     340.0\n",
            "3          45    109       175     282.4\n",
            "4          45    117       148     406.0\n",
            "..        ...    ...       ...       ...\n",
            "164        60    105       140     290.8\n",
            "165        60    110       145     300.0\n",
            "166        60    115       145     310.2\n",
            "167        75    120       150     320.4\n",
            "168        75    125       150     330.4\n",
            "\n",
            "[169 rows x 4 columns]\n"
          ]
        }
      ]
    }
  ]
}