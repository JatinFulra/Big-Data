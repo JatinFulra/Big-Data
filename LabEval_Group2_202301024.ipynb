{
  "nbformat": 4,
  "nbformat_minor": 0,
  "metadata": {
    "colab": {
      "provenance": [],
      "authorship_tag": "ABX9TyPN5N7tDXSEXH13X2Xk1eQ7",
      "include_colab_link": true
    },
    "kernelspec": {
      "name": "python3",
      "display_name": "Python 3"
    },
    "language_info": {
      "name": "python"
    }
  },
  "cells": [
    {
      "cell_type": "markdown",
      "metadata": {
        "id": "view-in-github",
        "colab_type": "text"
      },
      "source": [
        "<a href=\"https://colab.research.google.com/github/JatinFulra/Big-Data/blob/main/LabEval_Group2_202301024.ipynb\" target=\"_parent\"><img src=\"https://colab.research.google.com/assets/colab-badge.svg\" alt=\"Open In Colab\"/></a>"
      ]
    },
    {
      "cell_type": "code",
      "execution_count": 21,
      "metadata": {
        "colab": {
          "base_uri": "https://localhost:8080/"
        },
        "id": "CQK-oawzV7Xc",
        "outputId": "b0ff9455-bd96-4063-f34a-a5a295d746d7"
      },
      "outputs": [
        {
          "output_type": "stream",
          "name": "stdout",
          "text": [
            "Sorted Array: [ 10  16  16  52  54  62 453]\n",
            "Indices of Sorted Array: [0 3 4 1 5 2 6]\n",
            "Smallest Elements: [10 16 16 52]\n",
            "Largest Elements: [ 16  52  54  62 453]\n"
          ]
        }
      ],
      "source": [
        "import numpy as np\n",
        "\n",
        "arr = np.array([10, 52, 62, 16, 16, 54, 453])\n",
        "\n",
        "# 1: sort array\n",
        "sorted_arr = np.sort(arr)\n",
        "print(\"Sorted Array:\", sorted_arr)\n",
        "\n",
        "# 2: indices =\n",
        "sorted_indices = np.argsort(arr)\n",
        "print(\"Indices of Sorted Array:\", sorted_indices)\n",
        "\n",
        "# 3: 4 smallest elements\n",
        "num_smallest = 4\n",
        "smallest_elements = sorted_arr[:num_smallest]\n",
        "print(\"Smallest Elements:\", smallest_elements)\n",
        "\n",
        "# 4: 5 laargest elements\n",
        "num_largest = 5\n",
        "largest_elements = sorted_arr[-num_largest:]\n",
        "print(\"Largest Elements:\", largest_elements)\n"
      ]
    }
  ]
}