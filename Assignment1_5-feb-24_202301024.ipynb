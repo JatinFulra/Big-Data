{
  "nbformat": 4,
  "nbformat_minor": 0,
  "metadata": {
    "colab": {
      "provenance": [],
      "authorship_tag": "ABX9TyPDF/TpOFlJ2yb9V1OJgpvb",
      "include_colab_link": true
    },
    "kernelspec": {
      "name": "python3",
      "display_name": "Python 3"
    },
    "language_info": {
      "name": "python"
    }
  },
  "cells": [
    {
      "cell_type": "markdown",
      "metadata": {
        "id": "view-in-github",
        "colab_type": "text"
      },
      "source": [
        "<a href=\"https://colab.research.google.com/github/JatinFulra/Big-Data/blob/main/Assignment1_5-feb-24_202301024.ipynb\" target=\"_parent\"><img src=\"https://colab.research.google.com/assets/colab-badge.svg\" alt=\"Open In Colab\"/></a>"
      ]
    },
    {
      "cell_type": "markdown",
      "source": [
        "# 1. Reverse the NumPy array: arr = np.array([1, 2, 3, 6, 4, 5]) )\n"
      ],
      "metadata": {
        "id": "gFz4HIx863dG"
      }
    },
    {
      "cell_type": "code",
      "execution_count": 2,
      "metadata": {
        "colab": {
          "base_uri": "https://localhost:8080/"
        },
        "id": "s1FjnNfhzDVJ",
        "outputId": "1457a2e9-8ccd-424e-9719-3820e5bc91aa"
      },
      "outputs": [
        {
          "output_type": "stream",
          "name": "stdout",
          "text": [
            "[5 4 6 3 2 1]\n"
          ]
        }
      ],
      "source": [
        "import numpy as np\n",
        "\n",
        "arr = np.array([1, 2, 3, 6, 4, 5])\n",
        "reversed_arr = arr[::-1]\n",
        "\n",
        "print(reversed_arr)"
      ]
    },
    {
      "cell_type": "markdown",
      "source": [
        "# 2. Compare the following numpy arrays: arr1 = np.array([[1, 2], [3, 4]])\n",
        "# arr2 = np.array([[1, 2], [3, 4]])"
      ],
      "metadata": {
        "id": "XZZlRFLk7Eoe"
      }
    },
    {
      "cell_type": "code",
      "source": [
        "arr1 = np.array([[1, 2], [3, 4]])\n",
        "arr2 = np.array([[1, 2], [3, 4]])\n",
        "\n",
        "equal = np.array_equal(arr1, arr2)\n",
        "\n",
        "print(f\"The arrays are equal: {equal}\")\n"
      ],
      "metadata": {
        "colab": {
          "base_uri": "https://localhost:8080/"
        },
        "id": "-yoGAGFq7FwD",
        "outputId": "97fa9793-07ab-4a72-8c14-a58df0d23783"
      },
      "execution_count": 5,
      "outputs": [
        {
          "output_type": "stream",
          "name": "stdout",
          "text": [
            "The arrays are equal: True\n"
          ]
        }
      ]
    },
    {
      "cell_type": "markdown",
      "source": [
        "# 3. Find the most frequent value and their indice(s) in the following arrays:\n",
        "# i. x = np.array([1,2,3,4,5,1,2,1,1,1])\n",
        "# ii. y = np.array([1, 1, 1, 2, 3, 4, 2, 4, 3, 3, ])\n"
      ],
      "metadata": {
        "id": "6lA-xf3B8B72"
      }
    },
    {
      "cell_type": "code",
      "source": [
        "x = np.array([1, 2, 3, 4, 5, 1, 2, 1, 1, 1])\n",
        "y = np.array([1, 1, 1, 2, 3, 4, 2, 4, 3, 3])\n",
        "\n",
        "\n",
        "unique_values_x, counts_x = np.unique(x, return_counts=True)\n",
        "most_frequent_value_x = unique_values_x[np.argmax(counts_x)]\n",
        "indices_x = np.where(x == most_frequent_value_x)[0]\n",
        "\n",
        "unique_values_y, counts_y = np.unique(y, return_counts=True)\n",
        "most_frequent_value_y = unique_values_y[np.argmax(counts_y)]\n",
        "indices_y = np.where(y == most_frequent_value_y)[0]\n",
        "\n",
        "\n",
        "print(\"For array x:\")\n",
        "print(\"Most frequent value:\", most_frequent_value_x)\n",
        "print(\"Indices:\", indices_x)\n",
        "\n",
        "print(\"\\nFor array y:\")\n",
        "print(\"Most frequent value:\", most_frequent_value_y)\n",
        "print(\"Indices:\", indices_y)\n"
      ],
      "metadata": {
        "colab": {
          "base_uri": "https://localhost:8080/"
        },
        "id": "1pbixw8f8LRW",
        "outputId": "f2834c51-0103-4755-fabe-5fe53243bbea"
      },
      "execution_count": 2,
      "outputs": [
        {
          "output_type": "stream",
          "name": "stdout",
          "text": [
            "For array x:\n",
            "Most frequent value: 1\n",
            "Indices: [0 5 7 8 9]\n",
            "\n",
            "For array y:\n",
            "Most frequent value: 1\n",
            "Indices: [0 1 2]\n"
          ]
        }
      ]
    },
    {
      "cell_type": "markdown",
      "source": [
        "# 4. For the array gfg = np.matrix('[4, 1, 9; 12, 3, 1; 4, 5, 6]'),\n",
        "# find i. Sum of all elements\n",
        "# ii. Sum of all elements row-wise\n",
        "# iii. Sum of all elements column-wise\n"
      ],
      "metadata": {
        "id": "ap2xfe8hq4r4"
      }
    },
    {
      "cell_type": "code",
      "source": [
        "gfg = np.matrix('4 1 9; 12 3 1; 4 5 6')\n",
        "\n",
        "# i sum of all elements\n",
        "totalSum = np.sum(gfg)\n",
        "\n",
        "# ii sum of all elements row\n",
        "rowSum = np.sum(gfg, axis=1)\n",
        "\n",
        "# iii sum of all elements column\n",
        "columnSum = np.sum(gfg, axis=0)\n",
        "\n",
        "print(\"Sum of all elements:\", totalSum)\n",
        "print(\"Sum of all elements row-wise:\")\n",
        "print(rowSum)\n",
        "\n",
        "print(\"Sum of all elements column-wise:\")\n",
        "print(columnSum)\n"
      ],
      "metadata": {
        "colab": {
          "base_uri": "https://localhost:8080/"
        },
        "id": "kQQEONRtq9LB",
        "outputId": "66b084e6-c539-48cd-f9d1-62bfb3fb52d8"
      },
      "execution_count": 8,
      "outputs": [
        {
          "output_type": "stream",
          "name": "stdout",
          "text": [
            "Sum of all elements: 45\n",
            "Sum of all elements row-wise:\n",
            "[[14]\n",
            " [16]\n",
            " [15]]\n",
            "Sum of all elements column-wise:\n",
            "[[20  9 16]]\n"
          ]
        }
      ]
    }
  ]
}